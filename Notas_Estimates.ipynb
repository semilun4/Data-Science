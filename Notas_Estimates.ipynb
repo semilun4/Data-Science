{
 "cells": [
  {
   "cell_type": "markdown",
   "id": "a0691df5",
   "metadata": {},
   "source": [
    "# Estimates Of Location\n",
    "*Medidas de posición*"
   ]
  },
  {
   "cell_type": "code",
   "execution_count": 1,
   "id": "dd01c3f3",
   "metadata": {},
   "outputs": [],
   "source": [
    "import numpy as np\n",
    "import pandas as pd"
   ]
  },
  {
   "cell_type": "code",
   "execution_count": 2,
   "id": "ec1d3376",
   "metadata": {},
   "outputs": [],
   "source": [
    "datos = [10, 12, 9, 23, 16, 14]"
   ]
  },
  {
   "cell_type": "markdown",
   "id": "3ad82394",
   "metadata": {},
   "source": [
    "## Mean\n",
    "*Media*"
   ]
  },
  {
   "cell_type": "code",
   "execution_count": 3,
   "id": "2be2158d",
   "metadata": {},
   "outputs": [],
   "source": [
    "def mean(datos):\n",
    "    suma = 0\n",
    "    \n",
    "    for i in datos:\n",
    "        suma = suma+i\n",
    "    \n",
    "    return (suma/len(datos))"
   ]
  },
  {
   "cell_type": "code",
   "execution_count": 4,
   "id": "86aeecd0",
   "metadata": {},
   "outputs": [
    {
     "data": {
      "text/plain": [
       "14.0"
      ]
     },
     "execution_count": 4,
     "metadata": {},
     "output_type": "execute_result"
    }
   ],
   "source": [
    "mean(datos)"
   ]
  },
  {
   "cell_type": "markdown",
   "id": "fda2a5be",
   "metadata": {},
   "source": [
    "## Trimmed mean\n",
    "*Media recordata*"
   ]
  },
  {
   "cell_type": "code",
   "execution_count": 5,
   "id": "d1e9f703",
   "metadata": {},
   "outputs": [],
   "source": [
    "def trimmed_mean(datos,p):\n",
    "    datos.sort()\n",
    "    suma = 0\n",
    "    for i in datos[p:-p]:\n",
    "        suma = suma+i\n",
    "    return (suma/(len(datos)-2*p))"
   ]
  },
  {
   "cell_type": "code",
   "execution_count": 6,
   "id": "f93a0632",
   "metadata": {},
   "outputs": [
    {
     "data": {
      "text/plain": [
       "13.0"
      ]
     },
     "execution_count": 6,
     "metadata": {},
     "output_type": "execute_result"
    }
   ],
   "source": [
    "trimmed_mean(datos,2)"
   ]
  },
  {
   "cell_type": "markdown",
   "id": "85676e9b",
   "metadata": {},
   "source": [
    "## Weighted mean\n",
    "*Media ponderada*"
   ]
  },
  {
   "cell_type": "code",
   "execution_count": 7,
   "id": "ef76b8f1",
   "metadata": {},
   "outputs": [],
   "source": [
    "def weighted_mean(x,y):\n",
    "    X= np.array(x)\n",
    "    W = np.array(w)\n",
    "    return np.sum(X*W)/np.sum(W)\n"
   ]
  },
  {
   "cell_type": "code",
   "execution_count": 8,
   "id": "30a89c18",
   "metadata": {},
   "outputs": [
    {
     "data": {
      "text/plain": [
       "2.5238095238095237"
      ]
     },
     "execution_count": 8,
     "metadata": {},
     "output_type": "execute_result"
    }
   ],
   "source": [
    "# coeficientes\n",
    "x = [1,2,3,4]\n",
    "# pesos\n",
    "w = [2,10,5,4]\n",
    "\n",
    "weighted_mean(x,w)"
   ]
  },
  {
   "cell_type": "markdown",
   "id": "987ae0b0",
   "metadata": {},
   "source": [
    "## Cálculo con funciones\n",
    "*Cuando trabajamos con más datos, el definir funciones de acuerdo a las fórmulas queda atrás, pues ya existen librerías que nos ahorran tiempo y trabajo.*\n"
   ]
  },
  {
   "cell_type": "markdown",
   "id": "5c2a4e78",
   "metadata": {},
   "source": [
    "*Ya aprendimos a implementar funciones para encontrar los estadísticos, según su fórmula. Ahora apliquemos a un DataFrame*"
   ]
  },
  {
   "cell_type": "code",
   "execution_count": 9,
   "id": "d9716075",
   "metadata": {
    "scrolled": true
   },
   "outputs": [
    {
     "data": {
      "text/html": [
       "<div>\n",
       "<style scoped>\n",
       "    .dataframe tbody tr th:only-of-type {\n",
       "        vertical-align: middle;\n",
       "    }\n",
       "\n",
       "    .dataframe tbody tr th {\n",
       "        vertical-align: top;\n",
       "    }\n",
       "\n",
       "    .dataframe thead th {\n",
       "        text-align: right;\n",
       "    }\n",
       "</style>\n",
       "<table border=\"1\" class=\"dataframe\">\n",
       "  <thead>\n",
       "    <tr style=\"text-align: right;\">\n",
       "      <th></th>\n",
       "      <th>State</th>\n",
       "      <th>Population</th>\n",
       "      <th>Murder.Rate</th>\n",
       "      <th>Abbreviation</th>\n",
       "    </tr>\n",
       "  </thead>\n",
       "  <tbody>\n",
       "    <tr>\n",
       "      <th>0</th>\n",
       "      <td>Alabama</td>\n",
       "      <td>4779736</td>\n",
       "      <td>5.7</td>\n",
       "      <td>AL</td>\n",
       "    </tr>\n",
       "    <tr>\n",
       "      <th>1</th>\n",
       "      <td>Alaska</td>\n",
       "      <td>710231</td>\n",
       "      <td>5.6</td>\n",
       "      <td>AK</td>\n",
       "    </tr>\n",
       "    <tr>\n",
       "      <th>2</th>\n",
       "      <td>Arizona</td>\n",
       "      <td>6392017</td>\n",
       "      <td>4.7</td>\n",
       "      <td>AZ</td>\n",
       "    </tr>\n",
       "    <tr>\n",
       "      <th>3</th>\n",
       "      <td>Arkansas</td>\n",
       "      <td>2915918</td>\n",
       "      <td>5.6</td>\n",
       "      <td>AR</td>\n",
       "    </tr>\n",
       "    <tr>\n",
       "      <th>4</th>\n",
       "      <td>California</td>\n",
       "      <td>37253956</td>\n",
       "      <td>4.4</td>\n",
       "      <td>CA</td>\n",
       "    </tr>\n",
       "  </tbody>\n",
       "</table>\n",
       "</div>"
      ],
      "text/plain": [
       "        State  Population  Murder.Rate Abbreviation\n",
       "0     Alabama     4779736          5.7           AL\n",
       "1      Alaska      710231          5.6           AK\n",
       "2     Arizona     6392017          4.7           AZ\n",
       "3    Arkansas     2915918          5.6           AR\n",
       "4  California    37253956          4.4           CA"
      ]
     },
     "execution_count": 9,
     "metadata": {},
     "output_type": "execute_result"
    }
   ],
   "source": [
    "data = pd.read_csv(\"./Data/state.csv\")\n",
    "data.head()"
   ]
  },
  {
   "cell_type": "markdown",
   "id": "d899258c",
   "metadata": {},
   "source": [
    "Compute the mean, trimmed mean, and median for Population."
   ]
  },
  {
   "cell_type": "code",
   "execution_count": 10,
   "id": "dd3bb6fc",
   "metadata": {},
   "outputs": [
    {
     "data": {
      "text/plain": [
       "4436369.5"
      ]
     },
     "execution_count": 10,
     "metadata": {},
     "output_type": "execute_result"
    }
   ],
   "source": [
    "mediana = np.median(data['Population'])\n",
    "mediana"
   ]
  },
  {
   "cell_type": "code",
   "execution_count": 11,
   "id": "4f091677",
   "metadata": {},
   "outputs": [
    {
     "data": {
      "text/plain": [
       "6162876.3"
      ]
     },
     "execution_count": 11,
     "metadata": {},
     "output_type": "execute_result"
    }
   ],
   "source": [
    "# Otra forma de escribirlo\n",
    "media = data['Population'].mean()\n",
    "media"
   ]
  },
  {
   "cell_type": "code",
   "execution_count": 12,
   "id": "f9a1977b",
   "metadata": {},
   "outputs": [
    {
     "data": {
      "text/plain": [
       "4783697.125"
      ]
     },
     "execution_count": 12,
     "metadata": {},
     "output_type": "execute_result"
    }
   ],
   "source": [
    "# Para trim_mean necesitamos una nueva libreria\n",
    "from scipy.stats import trim_mean\n",
    "\n",
    "#calculate 10% trimmed mean\n",
    "recortada = trim_mean(data['Population'], 0.1)\n",
    "recortada"
   ]
  },
  {
   "cell_type": "markdown",
   "id": "707d74db",
   "metadata": {},
   "source": [
    "*Si quisieramos ver el promedio de asesinatos `Murder.Rate`*"
   ]
  },
  {
   "cell_type": "code",
   "execution_count": 13,
   "id": "84af6a40",
   "metadata": {},
   "outputs": [
    {
     "data": {
      "text/plain": [
       "4.066"
      ]
     },
     "execution_count": 13,
     "metadata": {},
     "output_type": "execute_result"
    }
   ],
   "source": [
    "data['Murder.Rate'].mean()"
   ]
  },
  {
   "cell_type": "code",
   "execution_count": 14,
   "id": "baac2d6a",
   "metadata": {
    "scrolled": true
   },
   "outputs": [],
   "source": [
    "#pip install wquantiles"
   ]
  },
  {
   "cell_type": "code",
   "execution_count": 15,
   "id": "ac6ea5cd",
   "metadata": {},
   "outputs": [
    {
     "data": {
      "text/plain": [
       "4.4"
      ]
     },
     "execution_count": 15,
     "metadata": {},
     "output_type": "execute_result"
    }
   ],
   "source": [
    "import wquantiles\n",
    "wquantiles.median(data['Murder.Rate'], weights=data['Population'])"
   ]
  },
  {
   "cell_type": "markdown",
   "id": "43b5e9be",
   "metadata": {},
   "source": [
    "## Cuantiles"
   ]
  },
  {
   "cell_type": "code",
   "execution_count": 16,
   "id": "7b085cf5",
   "metadata": {},
   "outputs": [
    {
     "data": {
      "text/plain": [
       "4436369.5"
      ]
     },
     "execution_count": 16,
     "metadata": {},
     "output_type": "execute_result"
    }
   ],
   "source": [
    "# El método .quantile() devuelve por defecto la mediana\n",
    "data['Population'].quantile()"
   ]
  },
  {
   "cell_type": "code",
   "execution_count": 17,
   "id": "922cb562",
   "metadata": {
    "scrolled": false
   },
   "outputs": [
    {
     "data": {
      "text/plain": [
       "0.10      889558.60\n",
       "0.25     1833004.25\n",
       "0.50     4436369.50\n",
       "0.75     6680312.25\n",
       "0.90    12715204.30\n",
       "Name: Population, dtype: float64"
      ]
     },
     "execution_count": 17,
     "metadata": {},
     "output_type": "execute_result"
    }
   ],
   "source": [
    "# Podemos sacar los cuantiles que especifiquemos\n",
    "data['Population'].quantile([.10, .25, .50, .75, .90])"
   ]
  },
  {
   "cell_type": "markdown",
   "id": "1efc67e6",
   "metadata": {},
   "source": [
    "#  Estimates Of Variability\n",
    "*Medidas de desviación*"
   ]
  },
  {
   "cell_type": "markdown",
   "id": "228ba979",
   "metadata": {},
   "source": [
    "## Variance\n",
    "*Varianza*\n",
    "\n",
    "Si lo hicieramos con una función"
   ]
  },
  {
   "cell_type": "code",
   "execution_count": 18,
   "id": "bb1089a9",
   "metadata": {},
   "outputs": [
    {
     "data": {
      "text/plain": [
       "46898327373394.445"
      ]
     },
     "execution_count": 18,
     "metadata": {},
     "output_type": "execute_result"
    }
   ],
   "source": [
    "def variance(data_arr):\n",
    "    mean = data_arr.mean()\n",
    "\n",
    "    variance = np.sum((data_arr-mean)**2)/(data_arr.size-1)\n",
    "\n",
    "    return variance\n",
    "\n",
    "variance(data['Population'])"
   ]
  },
  {
   "cell_type": "code",
   "execution_count": 19,
   "id": "45a8dc53",
   "metadata": {},
   "outputs": [
    {
     "data": {
      "text/plain": [
       "46898327373394.445"
      ]
     },
     "execution_count": 19,
     "metadata": {},
     "output_type": "execute_result"
    }
   ],
   "source": [
    "data['Population'].var()"
   ]
  },
  {
   "cell_type": "markdown",
   "id": "3a472622",
   "metadata": {},
   "source": [
    "Obtenemos el mismo resultado\n",
    "\n",
    "## Standard deviation\n",
    "*Desviación estándar*\n",
    "\n",
    "Veamos la forma de hacerlo con la fórmula"
   ]
  },
  {
   "cell_type": "code",
   "execution_count": 20,
   "id": "367f231d",
   "metadata": {},
   "outputs": [
    {
     "data": {
      "text/plain": [
       "6848235.347401142"
      ]
     },
     "execution_count": 20,
     "metadata": {},
     "output_type": "execute_result"
    }
   ],
   "source": [
    "def standard_deviation(data_arr):\n",
    "    std_dev = variance(data_arr)**0.5\n",
    "\n",
    "    return std_dev\n",
    "\n",
    "standard_deviation(data['Population'])"
   ]
  },
  {
   "cell_type": "code",
   "execution_count": 21,
   "id": "d963d41a",
   "metadata": {},
   "outputs": [
    {
     "data": {
      "text/plain": [
       "6848235.347401142"
      ]
     },
     "execution_count": 21,
     "metadata": {},
     "output_type": "execute_result"
    }
   ],
   "source": [
    "data['Population'].std()"
   ]
  },
  {
   "cell_type": "markdown",
   "id": "9c8c94b1",
   "metadata": {},
   "source": [
    "## Mean absolute deviation\n",
    "*Media de los valores absolutos*"
   ]
  },
  {
   "cell_type": "code",
   "execution_count": 22,
   "id": "29d0680a",
   "metadata": {},
   "outputs": [
    {
     "data": {
      "text/plain": [
       "4450933.356000001"
      ]
     },
     "execution_count": 22,
     "metadata": {},
     "output_type": "execute_result"
    }
   ],
   "source": [
    "# Mean absolute deviation\n",
    "mean_absolute_deviation = np.sum(np.abs(data['Population']-data['Population'].mean())) / data.Population.size\n",
    "\n",
    "mean_absolute_deviation"
   ]
  },
  {
   "cell_type": "markdown",
   "id": "bc7f627b",
   "metadata": {},
   "source": [
    "## Mean deviation\n",
    "*Desviación media*"
   ]
  },
  {
   "cell_type": "code",
   "execution_count": 23,
   "id": "a11c0ed9",
   "metadata": {},
   "outputs": [
    {
     "data": {
      "text/plain": [
       "4450933.356000001"
      ]
     },
     "execution_count": 23,
     "metadata": {},
     "output_type": "execute_result"
    }
   ],
   "source": [
    "data['Population'].mad()"
   ]
  },
  {
   "cell_type": "markdown",
   "id": "ea3ee285",
   "metadata": {},
   "source": [
    "## Percentile\n",
    "*Percentil*\n",
    "\n",
    "El valor tal que P por ciento de los valores toman este valor o menos y (100–P) por ciento toman este valor o más.\n",
    "\n",
    "En Numpy, tenemos cinco enfoques para calcular los percentiles, uno de los más usados es que usa la interpolación lineal. También, podemos hacerlo con Pandas"
   ]
  },
  {
   "cell_type": "code",
   "execution_count": 24,
   "id": "4f347161",
   "metadata": {},
   "outputs": [
    {
     "data": {
      "text/plain": [
       "6680312.25"
      ]
     },
     "execution_count": 24,
     "metadata": {},
     "output_type": "execute_result"
    }
   ],
   "source": [
    "# Nos indica que el 25% de los estados tendra una poblacion de al menos 6680212.25\n",
    "data['Population'].quantile(0.75)"
   ]
  },
  {
   "cell_type": "markdown",
   "id": "7fc9fa99",
   "metadata": {},
   "source": [
    "Interpretación: el 10% de los estados tienen una población de 12715204.3"
   ]
  },
  {
   "cell_type": "code",
   "execution_count": 25,
   "id": "04dd2c65",
   "metadata": {},
   "outputs": [
    {
     "data": {
      "text/plain": [
       "12715204.3"
      ]
     },
     "execution_count": 25,
     "metadata": {},
     "output_type": "execute_result"
    }
   ],
   "source": [
    "data['Population'].quantile(0.90)"
   ]
  },
  {
   "cell_type": "markdown",
   "id": "acab79e2",
   "metadata": {},
   "source": [
    "## Cuantiles y el IQR\n",
    "\n",
    "*InterQuantile Range* : un IQR bajo nos diría que los datos no son tan dispersos y eso quizás no estaría tan apegado a la realidad.\n",
    "\n",
    "Para visualizarlo, podemos usar un **boxplot** o diagrama de caja, este nos permite ver la distribución de los datos. Otra alternativa es usar la tabla de frecuencia."
   ]
  }
 ],
 "metadata": {
  "kernelspec": {
   "display_name": "Python 3 (ipykernel)",
   "language": "python",
   "name": "python3"
  },
  "language_info": {
   "codemirror_mode": {
    "name": "ipython",
    "version": 3
   },
   "file_extension": ".py",
   "mimetype": "text/x-python",
   "name": "python",
   "nbconvert_exporter": "python",
   "pygments_lexer": "ipython3",
   "version": "3.10.2"
  }
 },
 "nbformat": 4,
 "nbformat_minor": 5
}
