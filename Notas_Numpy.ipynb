{
 "cells": [
  {
   "cell_type": "markdown",
   "metadata": {},
   "source": [
    "## Clase 20/04/22 Numpy"
   ]
  },
  {
   "cell_type": "code",
   "execution_count": 1,
   "metadata": {},
   "outputs": [],
   "source": [
    "import numpy as np"
   ]
  },
  {
   "cell_type": "markdown",
   "metadata": {},
   "source": [
    "Con la semilla `seed` se obtienen los mismos numeros aleatorios"
   ]
  },
  {
   "cell_type": "code",
   "execution_count": 20,
   "metadata": {},
   "outputs": [],
   "source": [
    "np.random.seed(0)\n",
    "x1 = np.random.randint(10, size = 10)\n",
    "x2 = np.random.randint(10, size = (3,3))\n",
    "x3 = np.random.randint(10, size = (3,4,5))"
   ]
  },
  {
   "cell_type": "code",
   "execution_count": 10,
   "metadata": {},
   "outputs": [
    {
     "name": "stdout",
     "output_type": "stream",
     "text": [
      "[5 0 3 3 7 9 3 5 2 4] \n",
      "\n",
      "[[7 6 8]\n",
      " [8 1 6]\n",
      " [7 7 8]] \n",
      "\n",
      "[[[1 5 9 8 9]\n",
      "  [4 3 0 3 5]\n",
      "  [0 2 3 8 1]\n",
      "  [3 3 3 7 0]]\n",
      "\n",
      " [[1 9 9 0 4]\n",
      "  [7 3 2 7 2]\n",
      "  [0 0 4 5 5]\n",
      "  [6 8 4 1 4]]\n",
      "\n",
      " [[9 8 1 1 7]\n",
      "  [9 9 3 6 7]\n",
      "  [2 0 3 5 9]\n",
      "  [4 4 6 4 4]]] \n",
      "\n"
     ]
    }
   ],
   "source": [
    "print(x1,'\\n')\n",
    "print(x2,'\\n')\n",
    "print(x3,'\\n')"
   ]
  },
  {
   "cell_type": "code",
   "execution_count": 4,
   "metadata": {},
   "outputs": [
    {
     "data": {
      "text/plain": [
       "2"
      ]
     },
     "execution_count": 4,
     "metadata": {},
     "output_type": "execute_result"
    }
   ],
   "source": [
    "# Identacion\n",
    "numeros = np.array([1,2,3,4])\n",
    "\n",
    "numeros[1]"
   ]
  },
  {
   "cell_type": "markdown",
   "metadata": {},
   "source": [
    "## Clase 21/04/22\n",
    "\n",
    "Slice: Nos ayuda a seleccionar cierta porción de información qué queremos, son como las rebanadas de un pastel.\n",
    "\n",
    "### Slices unidimensionales"
   ]
  },
  {
   "cell_type": "code",
   "execution_count": 10,
   "metadata": {},
   "outputs": [
    {
     "data": {
      "text/plain": [
       "array([0, 1, 2, 3, 4, 5, 6, 7, 8, 9])"
      ]
     },
     "execution_count": 10,
     "metadata": {},
     "output_type": "execute_result"
    }
   ],
   "source": [
    "# Arreglo en base a un range\n",
    "x = np.arange(10)\n",
    "\n",
    "x"
   ]
  },
  {
   "cell_type": "markdown",
   "metadata": {},
   "source": [
    "Ahora si quisieramos separar en dos ese arreglo, podemos usar la siguiente notacion"
   ]
  },
  {
   "cell_type": "code",
   "execution_count": 8,
   "metadata": {},
   "outputs": [
    {
     "data": {
      "text/plain": [
       "array([0, 1, 2, 3, 4])"
      ]
     },
     "execution_count": 8,
     "metadata": {},
     "output_type": "execute_result"
    }
   ],
   "source": [
    "# Si quiero desde el inicio hasta la posicion 5\n",
    "x[:5]"
   ]
  },
  {
   "cell_type": "code",
   "execution_count": 9,
   "metadata": {},
   "outputs": [
    {
     "data": {
      "text/plain": [
       "array([5, 6, 7, 8, 9])"
      ]
     },
     "execution_count": 9,
     "metadata": {},
     "output_type": "execute_result"
    }
   ],
   "source": [
    "# Elementos a partir de la posicion 5 al final\n",
    "x[5:]"
   ]
  },
  {
   "cell_type": "markdown",
   "metadata": {},
   "source": [
    "Ahora para ir saltando posiciones"
   ]
  },
  {
   "cell_type": "code",
   "execution_count": 11,
   "metadata": {},
   "outputs": [
    {
     "data": {
      "text/plain": [
       "array([2, 4, 6])"
      ]
     },
     "execution_count": 11,
     "metadata": {},
     "output_type": "execute_result"
    }
   ],
   "source": [
    "# Obtener los elementos de la posicion 2 a la 7 \n",
    "# x[start:stop:step]\n",
    "\n",
    "x[2:7:2]"
   ]
  },
  {
   "cell_type": "markdown",
   "metadata": {},
   "source": [
    "Revertimos ahora el arreglo"
   ]
  },
  {
   "cell_type": "code",
   "execution_count": 12,
   "metadata": {},
   "outputs": [
    {
     "data": {
      "text/plain": [
       "array([9, 8, 7, 6, 5, 4, 3, 2, 1, 0])"
      ]
     },
     "execution_count": 12,
     "metadata": {},
     "output_type": "execute_result"
    }
   ],
   "source": [
    "x[::-1]"
   ]
  },
  {
   "cell_type": "code",
   "execution_count": 15,
   "metadata": {},
   "outputs": [
    {
     "data": {
      "text/plain": [
       "array([6, 4, 2])"
      ]
     },
     "execution_count": 15,
     "metadata": {},
     "output_type": "execute_result"
    }
   ],
   "source": [
    "# Ahora para ver solo los pares\n",
    "pares = x[2:7:2]\n",
    "\n",
    "pares[::-1]"
   ]
  },
  {
   "cell_type": "markdown",
   "metadata": {},
   "source": [
    "### Slices multidimensionales"
   ]
  },
  {
   "cell_type": "code",
   "execution_count": 16,
   "metadata": {},
   "outputs": [
    {
     "data": {
      "text/plain": [
       "array([[ 0,  1,  2,  3,  4],\n",
       "       [ 5,  6,  7,  8,  9],\n",
       "       [10, 11, 12, 13, 14],\n",
       "       [15, 16, 17, 18, 19],\n",
       "       [20, 21, 22, 23, 24]])"
      ]
     },
     "execution_count": 16,
     "metadata": {},
     "output_type": "execute_result"
    }
   ],
   "source": [
    "data = np.array([np.arange(i*5,i*5+5) for i in range(5)])\n",
    "data"
   ]
  },
  {
   "cell_type": "code",
   "execution_count": 17,
   "metadata": {},
   "outputs": [
    {
     "data": {
      "text/plain": [
       "11"
      ]
     },
     "execution_count": 17,
     "metadata": {},
     "output_type": "execute_result"
    }
   ],
   "source": [
    "# Para movernos entre la data\n",
    "# data[row][column] \n",
    "\n",
    "data[2][1]"
   ]
  },
  {
   "cell_type": "code",
   "execution_count": 18,
   "metadata": {},
   "outputs": [
    {
     "data": {
      "text/plain": [
       "11"
      ]
     },
     "execution_count": 18,
     "metadata": {},
     "output_type": "execute_result"
    }
   ],
   "source": [
    "# Otra forma que se puede hacer con numpy es\n",
    "data[2,1]"
   ]
  },
  {
   "cell_type": "code",
   "execution_count": 19,
   "metadata": {},
   "outputs": [
    {
     "data": {
      "text/plain": [
       "array([[0, 1, 2],\n",
       "       [5, 6, 7]])"
      ]
     },
     "execution_count": 19,
     "metadata": {},
     "output_type": "execute_result"
    }
   ],
   "source": [
    "# Obtener las primeras dos filas y tres columnas\n",
    "data[:2,:3]"
   ]
  },
  {
   "cell_type": "markdown",
   "metadata": {},
   "source": [
    "### Retos \n",
    "\n",
    "- Obtener los elementos de las filas 4-7 y columnas 2-8\n",
    "- Obtener los elementos de las filas 0-5 y columnas 0-3\n",
    "- Obtener los elementos de las ultimas 3 filas y las ultimas 5 columnas"
   ]
  },
  {
   "cell_type": "code",
   "execution_count": 5,
   "metadata": {},
   "outputs": [
    {
     "data": {
      "text/plain": [
       "array([[5, 0, 3, 3, 7, 9, 3, 5, 2, 4],\n",
       "       [7, 6, 8, 8, 1, 6, 7, 7, 8, 1],\n",
       "       [5, 9, 8, 9, 4, 3, 0, 3, 5, 0],\n",
       "       [2, 3, 8, 1, 3, 3, 3, 7, 0, 1],\n",
       "       [9, 9, 0, 4, 7, 3, 2, 7, 2, 0],\n",
       "       [0, 4, 5, 5, 6, 8, 4, 1, 4, 9],\n",
       "       [8, 1, 1, 7, 9, 9, 3, 6, 7, 2],\n",
       "       [0, 3, 5, 9, 4, 4, 6, 4, 4, 3],\n",
       "       [4, 4, 8, 4, 3, 7, 5, 5, 0, 1],\n",
       "       [5, 9, 3, 0, 5, 0, 1, 2, 4, 2]])"
      ]
     },
     "execution_count": 5,
     "metadata": {},
     "output_type": "execute_result"
    }
   ],
   "source": [
    "np.random.seed(0) #para mantener los mismos datos\n",
    "\n",
    "# Creamos matriz aleatoria\n",
    "random_data = np.random.randint(10, size=(10,10))\n",
    "random_data"
   ]
  },
  {
   "cell_type": "code",
   "execution_count": 3,
   "metadata": {},
   "outputs": [
    {
     "data": {
      "text/plain": [
       "array([[0, 4, 7, 3, 2, 7],\n",
       "       [5, 5, 6, 8, 4, 1],\n",
       "       [1, 7, 9, 9, 3, 6]])"
      ]
     },
     "execution_count": 3,
     "metadata": {},
     "output_type": "execute_result"
    }
   ],
   "source": [
    "# Obtener los elementos de las filas 4-7 y columnas 2-8\n",
    "array1 = random_data[4:7,2:8]\n",
    "array1"
   ]
  },
  {
   "cell_type": "code",
   "execution_count": 4,
   "metadata": {},
   "outputs": [
    {
     "data": {
      "text/plain": [
       "array([[5, 0, 3],\n",
       "       [7, 6, 8],\n",
       "       [5, 9, 8],\n",
       "       [2, 3, 8],\n",
       "       [9, 9, 0]])"
      ]
     },
     "execution_count": 4,
     "metadata": {},
     "output_type": "execute_result"
    }
   ],
   "source": [
    "# Obtener los elementos de las filas 0-5 y columnas 0-3\n",
    "array2 = random_data[:5,:3]\n",
    "array2"
   ]
  },
  {
   "cell_type": "code",
   "execution_count": 6,
   "metadata": {},
   "outputs": [
    {
     "data": {
      "text/plain": [
       "array([[4, 6, 4, 4, 3],\n",
       "       [7, 5, 5, 0, 1],\n",
       "       [0, 1, 2, 4, 2]])"
      ]
     },
     "execution_count": 6,
     "metadata": {},
     "output_type": "execute_result"
    }
   ],
   "source": [
    "# Obtener los elementos de las ultimas 3 filas y las ultimas 5 columnas\n",
    "random_data[-3:,-5:] # esta instruccion modifica a random_data"
   ]
  },
  {
   "cell_type": "code",
   "execution_count": 10,
   "metadata": {},
   "outputs": [
    {
     "data": {
      "text/plain": [
       "array([[4, 6, 4, 4, 3],\n",
       "       [7, 5, 5, 0, 1],\n",
       "       [0, 1, 2, 4, 2]])"
      ]
     },
     "execution_count": 10,
     "metadata": {},
     "output_type": "execute_result"
    }
   ],
   "source": [
    "# Para evitarlo, usariamos .copy() para hacer una copia\n",
    "copia = random_data[-3:,-5:]\n",
    "copia"
   ]
  },
  {
   "cell_type": "markdown",
   "metadata": {},
   "source": [
    "### Concatenar matrices"
   ]
  },
  {
   "cell_type": "code",
   "execution_count": 11,
   "metadata": {},
   "outputs": [
    {
     "data": {
      "text/plain": [
       "array([1, 2, 3, 3, 2, 1])"
      ]
     },
     "execution_count": 11,
     "metadata": {},
     "output_type": "execute_result"
    }
   ],
   "source": [
    "x = np.array([1,2,3])\n",
    "y = np.array([3,2,1])\n",
    "\n",
    "np.concatenate([x,y])"
   ]
  },
  {
   "cell_type": "code",
   "execution_count": 12,
   "metadata": {},
   "outputs": [
    {
     "data": {
      "text/plain": [
       "array([[1, 2, 3],\n",
       "       [4, 5, 6],\n",
       "       [1, 2, 3],\n",
       "       [4, 5, 6]])"
      ]
     },
     "execution_count": 12,
     "metadata": {},
     "output_type": "execute_result"
    }
   ],
   "source": [
    "# Uniendo matrices\n",
    "m1 = np.array([[1,2,3],[4,5,6]])\n",
    "m2 = np.array([[1,2,3],[4,5,6]])\n",
    "\n",
    "# axis = 0\n",
    "np.concatenate([m1,m2])"
   ]
  },
  {
   "cell_type": "code",
   "execution_count": 14,
   "metadata": {},
   "outputs": [
    {
     "data": {
      "text/plain": [
       "array([[1, 2, 3, 1, 2, 3],\n",
       "       [4, 5, 6, 4, 5, 6]])"
      ]
     },
     "execution_count": 14,
     "metadata": {},
     "output_type": "execute_result"
    }
   ],
   "source": [
    "# axis = 1\n",
    "np.concatenate([m1,m2], axis = 1)"
   ]
  },
  {
   "cell_type": "code",
   "execution_count": 16,
   "metadata": {},
   "outputs": [
    {
     "data": {
      "text/plain": [
       "array([[1, 2, 3, 1, 2, 3],\n",
       "       [4, 5, 6, 4, 5, 6]])"
      ]
     },
     "execution_count": 16,
     "metadata": {},
     "output_type": "execute_result"
    }
   ],
   "source": [
    "# Otra forma\n",
    "np.c_[m1,m2]"
   ]
  },
  {
   "cell_type": "markdown",
   "metadata": {},
   "source": [
    "### Dividir matrices"
   ]
  },
  {
   "cell_type": "code",
   "execution_count": 28,
   "metadata": {},
   "outputs": [
    {
     "name": "stdout",
     "output_type": "stream",
     "text": [
      "[12 34]\n",
      "[2 1]\n",
      "[67 78  7 34  1]\n"
     ]
    }
   ],
   "source": [
    "array = [12, 34, 2, 1, 67, 78, 7, 34, 1]\n",
    "\n",
    "x1, x2, x3 = np.split(array,[2,4])\n",
    "print(x1)\n",
    "print(x2)\n",
    "print(x3)"
   ]
  },
  {
   "cell_type": "code",
   "execution_count": 29,
   "metadata": {},
   "outputs": [
    {
     "data": {
      "text/plain": [
       "array([[12, 34,  2],\n",
       "       [ 1, 67, 78],\n",
       "       [ 7, 34,  1]])"
      ]
     },
     "execution_count": 29,
     "metadata": {},
     "output_type": "execute_result"
    }
   ],
   "source": [
    "# Cambiar las dimensiones del array\n",
    "array_reshape = np.array(array).reshape((3,3))\n",
    "array_reshape"
   ]
  },
  {
   "cell_type": "code",
   "execution_count": 35,
   "metadata": {},
   "outputs": [
    {
     "name": "stdout",
     "output_type": "stream",
     "text": [
      "[[12 34  2]\n",
      " [ 1 67 78]]\n",
      "------------\n",
      "[[ 7 34  1]]\n"
     ]
    }
   ],
   "source": [
    "# Dividir array\n",
    "upper, lower = np.vsplit(array_reshape,[2])\n",
    "print(upper)\n",
    "print('------------')\n",
    "print(lower)"
   ]
  },
  {
   "cell_type": "markdown",
   "metadata": {},
   "source": [
    "## Universal Functions"
   ]
  },
  {
   "cell_type": "code",
   "execution_count": 2,
   "metadata": {},
   "outputs": [
    {
     "data": {
      "text/plain": [
       "array([45, 48, 65, 68, 68, 10, 84, 22, 37, 88, 71, 89, 89, 13, 59, 66, 40,\n",
       "       88, 47, 89, 82, 38, 26, 78, 73, 10, 21, 81, 70, 80, 48, 65, 83, 89,\n",
       "       50, 30, 20, 20, 15, 40, 33, 66, 10, 58, 33, 32, 75, 24, 36, 76, 56,\n",
       "       29, 35,  1,  1, 37, 54,  6, 39, 18, 80,  5, 43, 59, 32,  2, 66, 42,\n",
       "       58, 36, 12, 47, 83, 92,  1, 15, 54, 13, 43, 85, 76, 69,  7, 69, 48,\n",
       "        4, 77, 53, 79, 16, 21, 59, 24, 80, 14, 86, 49, 50, 70, 42])"
      ]
     },
     "execution_count": 2,
     "metadata": {},
     "output_type": "execute_result"
    }
   ],
   "source": [
    "np.random.seed(0) #para mantener los mismos datos\n",
    "\n",
    "values = np.random.randint(1,100,size=100)\n",
    "values"
   ]
  },
  {
   "cell_type": "raw",
   "metadata": {},
   "source": [
    "Supongamos que queremos disminuir el 10% de cada valor"
   ]
  },
  {
   "cell_type": "code",
   "execution_count": 3,
   "metadata": {},
   "outputs": [],
   "source": [
    "def reduce_10_percent(data):\n",
    "    result = []\n",
    "    for number in data:\n",
    "        reduce = number * 0.9\n",
    "        result.append(reduce)\n",
    "    return result"
   ]
  },
  {
   "cell_type": "code",
   "execution_count": 9,
   "metadata": {},
   "outputs": [
    {
     "data": {
      "text/plain": [
       "[40.5,\n",
       " 43.2,\n",
       " 58.5,\n",
       " 61.2,\n",
       " 61.2,\n",
       " 9.0,\n",
       " 75.60000000000001,\n",
       " 19.8,\n",
       " 33.300000000000004,\n",
       " 79.2,\n",
       " 63.9,\n",
       " 80.10000000000001,\n",
       " 80.10000000000001,\n",
       " 11.700000000000001,\n",
       " 53.1,\n",
       " 59.4,\n",
       " 36.0,\n",
       " 79.2,\n",
       " 42.300000000000004,\n",
       " 80.10000000000001,\n",
       " 73.8,\n",
       " 34.2,\n",
       " 23.400000000000002,\n",
       " 70.2,\n",
       " 65.7,\n",
       " 9.0,\n",
       " 18.900000000000002,\n",
       " 72.9,\n",
       " 63.0,\n",
       " 72.0,\n",
       " 43.2,\n",
       " 58.5,\n",
       " 74.7,\n",
       " 80.10000000000001,\n",
       " 45.0,\n",
       " 27.0,\n",
       " 18.0,\n",
       " 18.0,\n",
       " 13.5,\n",
       " 36.0,\n",
       " 29.7,\n",
       " 59.4,\n",
       " 9.0,\n",
       " 52.2,\n",
       " 29.7,\n",
       " 28.8,\n",
       " 67.5,\n",
       " 21.6,\n",
       " 32.4,\n",
       " 68.4,\n",
       " 50.4,\n",
       " 26.1,\n",
       " 31.5,\n",
       " 0.9,\n",
       " 0.9,\n",
       " 33.300000000000004,\n",
       " 48.6,\n",
       " 5.4,\n",
       " 35.1,\n",
       " 16.2,\n",
       " 72.0,\n",
       " 4.5,\n",
       " 38.7,\n",
       " 53.1,\n",
       " 28.8,\n",
       " 1.8,\n",
       " 59.4,\n",
       " 37.800000000000004,\n",
       " 52.2,\n",
       " 32.4,\n",
       " 10.8,\n",
       " 42.300000000000004,\n",
       " 74.7,\n",
       " 82.8,\n",
       " 0.9,\n",
       " 13.5,\n",
       " 48.6,\n",
       " 11.700000000000001,\n",
       " 38.7,\n",
       " 76.5,\n",
       " 68.4,\n",
       " 62.1,\n",
       " 6.3,\n",
       " 62.1,\n",
       " 43.2,\n",
       " 3.6,\n",
       " 69.3,\n",
       " 47.7,\n",
       " 71.10000000000001,\n",
       " 14.4,\n",
       " 18.900000000000002,\n",
       " 53.1,\n",
       " 21.6,\n",
       " 72.0,\n",
       " 12.6,\n",
       " 77.4,\n",
       " 44.1,\n",
       " 45.0,\n",
       " 63.0,\n",
       " 37.800000000000004]"
      ]
     },
     "execution_count": 9,
     "metadata": {},
     "output_type": "execute_result"
    }
   ],
   "source": [
    "reduce_10_percent(values)"
   ]
  },
  {
   "cell_type": "markdown",
   "metadata": {},
   "source": [
    "¿Cuanto tiempo tarda en hacerlo? "
   ]
  },
  {
   "cell_type": "code",
   "execution_count": 8,
   "metadata": {},
   "outputs": [
    {
     "name": "stdout",
     "output_type": "stream",
     "text": [
      "389 µs ± 39.5 µs per loop (mean ± std. dev. of 7 runs, 1,000 loops each)\n"
     ]
    }
   ],
   "source": [
    "%timeit reduce_10_percent(values)"
   ]
  },
  {
   "cell_type": "markdown",
   "metadata": {},
   "source": [
    "Ahora realicemos el mismo procedimiento con las Ufunc"
   ]
  },
  {
   "cell_type": "code",
   "execution_count": 10,
   "metadata": {},
   "outputs": [
    {
     "data": {
      "text/plain": [
       "array([40.5, 43.2, 58.5, 61.2, 61.2,  9. , 75.6, 19.8, 33.3, 79.2, 63.9,\n",
       "       80.1, 80.1, 11.7, 53.1, 59.4, 36. , 79.2, 42.3, 80.1, 73.8, 34.2,\n",
       "       23.4, 70.2, 65.7,  9. , 18.9, 72.9, 63. , 72. , 43.2, 58.5, 74.7,\n",
       "       80.1, 45. , 27. , 18. , 18. , 13.5, 36. , 29.7, 59.4,  9. , 52.2,\n",
       "       29.7, 28.8, 67.5, 21.6, 32.4, 68.4, 50.4, 26.1, 31.5,  0.9,  0.9,\n",
       "       33.3, 48.6,  5.4, 35.1, 16.2, 72. ,  4.5, 38.7, 53.1, 28.8,  1.8,\n",
       "       59.4, 37.8, 52.2, 32.4, 10.8, 42.3, 74.7, 82.8,  0.9, 13.5, 48.6,\n",
       "       11.7, 38.7, 76.5, 68.4, 62.1,  6.3, 62.1, 43.2,  3.6, 69.3, 47.7,\n",
       "       71.1, 14.4, 18.9, 53.1, 21.6, 72. , 12.6, 77.4, 44.1, 45. , 63. ,\n",
       "       37.8])"
      ]
     },
     "execution_count": 10,
     "metadata": {},
     "output_type": "execute_result"
    }
   ],
   "source": [
    "resultu = values*0.9\n",
    "resultu"
   ]
  },
  {
   "cell_type": "markdown",
   "metadata": {},
   "source": [
    "¿Cuánto tarda?"
   ]
  },
  {
   "cell_type": "code",
   "execution_count": 11,
   "metadata": {},
   "outputs": [
    {
     "name": "stdout",
     "output_type": "stream",
     "text": [
      "2.45 µs ± 431 ns per loop (mean ± std. dev. of 7 runs, 100,000 loops each)\n"
     ]
    }
   ],
   "source": [
    "%timeit (values*0.9)"
   ]
  },
  {
   "cell_type": "markdown",
   "metadata": {},
   "source": [
    "**Es más eficiente y sencillo trabajar con Numpy**\n",
    "\n",
    "Ejemplos de opeaciones\n"
   ]
  },
  {
   "cell_type": "code",
   "execution_count": 12,
   "metadata": {},
   "outputs": [
    {
     "data": {
      "text/plain": [
       "array([0, 1, 2, 3, 4])"
      ]
     },
     "execution_count": 12,
     "metadata": {},
     "output_type": "execute_result"
    }
   ],
   "source": [
    "X = np.arange(5)\n",
    "X"
   ]
  },
  {
   "cell_type": "code",
   "execution_count": 13,
   "metadata": {},
   "outputs": [
    {
     "data": {
      "text/plain": [
       "array([-5, -4, -3, -2, -1])"
      ]
     },
     "execution_count": 13,
     "metadata": {},
     "output_type": "execute_result"
    }
   ],
   "source": [
    "X-5"
   ]
  },
  {
   "cell_type": "code",
   "execution_count": 14,
   "metadata": {},
   "outputs": [
    {
     "data": {
      "text/plain": [
       "array([0, 2, 4, 6, 8])"
      ]
     },
     "execution_count": 14,
     "metadata": {},
     "output_type": "execute_result"
    }
   ],
   "source": [
    "X*2"
   ]
  },
  {
   "cell_type": "code",
   "execution_count": 20,
   "metadata": {},
   "outputs": [
    {
     "data": {
      "text/plain": [
       "array([ 0, -1, -2, -3, -4])"
      ]
     },
     "execution_count": 20,
     "metadata": {},
     "output_type": "execute_result"
    }
   ],
   "source": [
    "X = -X\n",
    "X"
   ]
  },
  {
   "cell_type": "code",
   "execution_count": 21,
   "metadata": {},
   "outputs": [
    {
     "data": {
      "text/plain": [
       "array([0, 1, 2, 3, 4])"
      ]
     },
     "execution_count": 21,
     "metadata": {},
     "output_type": "execute_result"
    }
   ],
   "source": [
    "np.absolute(X)"
   ]
  },
  {
   "cell_type": "code",
   "execution_count": 23,
   "metadata": {},
   "outputs": [
    {
     "data": {
      "text/plain": [
       "array([0.        , 0.34906585, 0.6981317 , 1.04719755, 1.3962634 ,\n",
       "       1.74532925, 2.0943951 , 2.44346095, 2.7925268 , 3.14159265])"
      ]
     },
     "execution_count": 23,
     "metadata": {},
     "output_type": "execute_result"
    }
   ],
   "source": [
    "array_linspace = np.linspace(0,np.pi,10)\n",
    "\n",
    "# Divide el intervalo de 0 a pi en 10 partes\n",
    "array_linspace"
   ]
  },
  {
   "cell_type": "code",
   "execution_count": 25,
   "metadata": {},
   "outputs": [
    {
     "data": {
      "text/plain": [
       "50.22974697226334"
      ]
     },
     "execution_count": 25,
     "metadata": {},
     "output_type": "execute_result"
    }
   ],
   "source": [
    "array_suma = np.random.random(100)\n",
    "array_suma.sum()"
   ]
  },
  {
   "cell_type": "code",
   "execution_count": 32,
   "metadata": {},
   "outputs": [
    {
     "name": "stdout",
     "output_type": "stream",
     "text": [
      "[[0 1 2]\n",
      " [1 2 3]\n",
      " [2 3 4]]\n"
     ]
    }
   ],
   "source": [
    "a = np.array([0,1,2])\n",
    "b = a.reshape((3,1))\n",
    "print(a+b)"
   ]
  }
 ],
 "metadata": {
  "interpreter": {
   "hash": "6469be0db7423f5fceefb3cdbc2dcc182743adf89f376b935e8686d5d1b1c5da"
  },
  "kernelspec": {
   "display_name": "Python 3 (ipykernel)",
   "language": "python",
   "name": "python3"
  },
  "language_info": {
   "codemirror_mode": {
    "name": "ipython",
    "version": 3
   },
   "file_extension": ".py",
   "mimetype": "text/x-python",
   "name": "python",
   "nbconvert_exporter": "python",
   "pygments_lexer": "ipython3",
   "version": "3.10.2"
  }
 },
 "nbformat": 4,
 "nbformat_minor": 2
}
